{
 "cells": [
  {
   "cell_type": "code",
   "execution_count": 11,
   "id": "9b71656b",
   "metadata": {},
   "outputs": [],
   "source": [
    "import cv2\n"
   ]
  },
  {
   "cell_type": "code",
   "execution_count": 12,
   "id": "5f3d32d2",
   "metadata": {},
   "outputs": [],
   "source": [
    "import numpy"
   ]
  },
  {
   "cell_type": "code",
   "execution_count": 13,
   "id": "558d130d",
   "metadata": {},
   "outputs": [],
   "source": [
    "img1=cv2.imread('image1.jpg')\n",
    "img1=cv2.resize(img1,(512,512))\n",
    "\n",
    "img2=cv2.imread('image2.jpg')\n",
    "img2=cv2.resize(img2,(512,512))"
   ]
  },
  {
   "cell_type": "code",
   "execution_count": 14,
   "id": "027993e1",
   "metadata": {},
   "outputs": [],
   "source": [
    "before=numpy.hstack((img1,img2))"
   ]
  },
  {
   "cell_type": "code",
   "execution_count": 15,
   "id": "3a6b3913",
   "metadata": {},
   "outputs": [],
   "source": [
    "\n",
    "cv2.imshow('BEFORE IMAGE',before)\n",
    "cv2.waitKey()\n",
    "cv2.destroyAllWindows()\n"
   ]
  },
  {
   "cell_type": "code",
   "execution_count": 16,
   "id": "5062fbb1",
   "metadata": {},
   "outputs": [],
   "source": [
    "#     CROP\n",
    "img_A=numpy.array(img1[10:180,180:400])\n",
    "img_B=numpy.array(img2[10:180,180:400])"
   ]
  },
  {
   "cell_type": "code",
   "execution_count": 17,
   "id": "310fcc3d",
   "metadata": {},
   "outputs": [],
   "source": [
    "#    SWAP\n",
    "img1[10:180,180:400]=img_B\n",
    "img2[10:180,180:400]=img_A"
   ]
  },
  {
   "cell_type": "code",
   "execution_count": 18,
   "id": "176e539f",
   "metadata": {},
   "outputs": [],
   "source": [
    "After = numpy.hstack((img1,img2)) "
   ]
  },
  {
   "cell_type": "code",
   "execution_count": 19,
   "id": "a1878f98",
   "metadata": {},
   "outputs": [],
   "source": [
    "#    IMAGE AFTER CROPING\n",
    "cv2.imshow(\"AFTER IMAGE\",After)\n",
    "cv2.waitKey()\n",
    "cv2.destroyAllWindows()"
   ]
  },
  {
   "cell_type": "code",
   "execution_count": null,
   "id": "c9d8ce8e",
   "metadata": {},
   "outputs": [],
   "source": []
  }
 ],
 "metadata": {
  "kernelspec": {
   "display_name": "Python 3",
   "language": "python",
   "name": "python3"
  },
  "language_info": {
   "codemirror_mode": {
    "name": "ipython",
    "version": 3
   },
   "file_extension": ".py",
   "mimetype": "text/x-python",
   "name": "python",
   "nbconvert_exporter": "python",
   "pygments_lexer": "ipython3",
   "version": "3.8.8"
  }
 },
 "nbformat": 4,
 "nbformat_minor": 5
}
